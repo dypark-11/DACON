{
  "nbformat": 4,
  "nbformat_minor": 0,
  "metadata": {
    "colab": {
      "name": "ver0.ipynb",
      "provenance": [],
      "collapsed_sections": []
    },
    "kernelspec": {
      "name": "python3",
      "display_name": "Python 3"
    },
    "language_info": {
      "name": "python"
    }
  },
  "cells": [
    {
      "cell_type": "code",
      "metadata": {
        "colab": {
          "base_uri": "https://localhost:8080/"
        },
        "id": "pnMXWmLUjrzc",
        "outputId": "86e1ab41-f6e8-4c3a-ac5d-54948881bd0f"
      },
      "source": [
        "from google.colab import drive\n",
        "drive.mount('/content/gdrive/')"
      ],
      "execution_count": 1,
      "outputs": [
        {
          "output_type": "stream",
          "text": [
            "Mounted at /content/gdrive/\n"
          ],
          "name": "stdout"
        }
      ]
    },
    {
      "cell_type": "code",
      "metadata": {
        "id": "YEu6tO6X-Aqc"
      },
      "source": [
        "PATH = '/content/gdrive/MyDrive/데분/데이콘/주차수요/data/'"
      ],
      "execution_count": 7,
      "outputs": []
    },
    {
      "cell_type": "code",
      "metadata": {
        "colab": {
          "base_uri": "https://localhost:8080/"
        },
        "id": "qCZPTSfE_NQM",
        "outputId": "04d19b19-e9d0-4201-8eb4-6576e4177c62"
      },
      "source": [
        "!pip install lightgbm"
      ],
      "execution_count": 17,
      "outputs": [
        {
          "output_type": "stream",
          "text": [
            "Requirement already satisfied: lightgbm in /usr/local/lib/python3.7/dist-packages (2.2.3)\n",
            "Requirement already satisfied: scikit-learn in /usr/local/lib/python3.7/dist-packages (from lightgbm) (0.22.2.post1)\n",
            "Requirement already satisfied: numpy in /usr/local/lib/python3.7/dist-packages (from lightgbm) (1.19.5)\n",
            "Requirement already satisfied: scipy in /usr/local/lib/python3.7/dist-packages (from lightgbm) (1.4.1)\n",
            "Requirement already satisfied: joblib>=0.11 in /usr/local/lib/python3.7/dist-packages (from scikit-learn->lightgbm) (1.0.1)\n"
          ],
          "name": "stdout"
        }
      ]
    },
    {
      "cell_type": "code",
      "metadata": {
        "id": "Vzo80qV_-gA3"
      },
      "source": [
        "import pandas as pd\n",
        "import numpy as np\n",
        "from lightgbm import LGBMRegressor\n",
        "from tqdm import tqdm"
      ],
      "execution_count": 38,
      "outputs": []
    },
    {
      "cell_type": "code",
      "metadata": {
        "id": "NJVYpCFv9-dD"
      },
      "source": [
        "train_df  = pd.read_csv(PATH+'train.csv')\n",
        "test_df  = pd.read_csv(PATH+'test.csv')\n",
        "info_df  = pd.read_csv(PATH+'age_gender_info.csv')"
      ],
      "execution_count": 49,
      "outputs": []
    },
    {
      "cell_type": "code",
      "metadata": {
        "colab": {
          "base_uri": "https://localhost:8080/",
          "height": 204
        },
        "id": "8ya9e9As-imV",
        "outputId": "f11230ff-cc06-44d4-e236-959bf272f1af"
      },
      "source": [
        "train_df.head()"
      ],
      "execution_count": 10,
      "outputs": [
        {
          "output_type": "execute_result",
          "data": {
            "text/html": [
              "<div>\n",
              "<style scoped>\n",
              "    .dataframe tbody tr th:only-of-type {\n",
              "        vertical-align: middle;\n",
              "    }\n",
              "\n",
              "    .dataframe tbody tr th {\n",
              "        vertical-align: top;\n",
              "    }\n",
              "\n",
              "    .dataframe thead th {\n",
              "        text-align: right;\n",
              "    }\n",
              "</style>\n",
              "<table border=\"1\" class=\"dataframe\">\n",
              "  <thead>\n",
              "    <tr style=\"text-align: right;\">\n",
              "      <th></th>\n",
              "      <th>단지코드</th>\n",
              "      <th>총세대수</th>\n",
              "      <th>임대건물구분</th>\n",
              "      <th>지역</th>\n",
              "      <th>공급유형</th>\n",
              "      <th>전용면적</th>\n",
              "      <th>전용면적별세대수</th>\n",
              "      <th>공가수</th>\n",
              "      <th>자격유형</th>\n",
              "      <th>임대보증금</th>\n",
              "      <th>임대료</th>\n",
              "      <th>도보 10분거리 내 지하철역 수(환승노선 수 반영)</th>\n",
              "      <th>도보 10분거리 내 버스정류장 수</th>\n",
              "      <th>단지내주차면수</th>\n",
              "      <th>등록차량수</th>\n",
              "    </tr>\n",
              "  </thead>\n",
              "  <tbody>\n",
              "    <tr>\n",
              "      <th>0</th>\n",
              "      <td>C2483</td>\n",
              "      <td>900</td>\n",
              "      <td>아파트</td>\n",
              "      <td>경상북도</td>\n",
              "      <td>국민임대</td>\n",
              "      <td>39.72</td>\n",
              "      <td>134</td>\n",
              "      <td>38.0</td>\n",
              "      <td>A</td>\n",
              "      <td>15667000</td>\n",
              "      <td>103680</td>\n",
              "      <td>0.0</td>\n",
              "      <td>3.0</td>\n",
              "      <td>1425.0</td>\n",
              "      <td>1015.0</td>\n",
              "    </tr>\n",
              "    <tr>\n",
              "      <th>1</th>\n",
              "      <td>C2483</td>\n",
              "      <td>900</td>\n",
              "      <td>아파트</td>\n",
              "      <td>경상북도</td>\n",
              "      <td>국민임대</td>\n",
              "      <td>39.72</td>\n",
              "      <td>15</td>\n",
              "      <td>38.0</td>\n",
              "      <td>A</td>\n",
              "      <td>15667000</td>\n",
              "      <td>103680</td>\n",
              "      <td>0.0</td>\n",
              "      <td>3.0</td>\n",
              "      <td>1425.0</td>\n",
              "      <td>1015.0</td>\n",
              "    </tr>\n",
              "    <tr>\n",
              "      <th>2</th>\n",
              "      <td>C2483</td>\n",
              "      <td>900</td>\n",
              "      <td>아파트</td>\n",
              "      <td>경상북도</td>\n",
              "      <td>국민임대</td>\n",
              "      <td>51.93</td>\n",
              "      <td>385</td>\n",
              "      <td>38.0</td>\n",
              "      <td>A</td>\n",
              "      <td>27304000</td>\n",
              "      <td>184330</td>\n",
              "      <td>0.0</td>\n",
              "      <td>3.0</td>\n",
              "      <td>1425.0</td>\n",
              "      <td>1015.0</td>\n",
              "    </tr>\n",
              "    <tr>\n",
              "      <th>3</th>\n",
              "      <td>C2483</td>\n",
              "      <td>900</td>\n",
              "      <td>아파트</td>\n",
              "      <td>경상북도</td>\n",
              "      <td>국민임대</td>\n",
              "      <td>51.93</td>\n",
              "      <td>15</td>\n",
              "      <td>38.0</td>\n",
              "      <td>A</td>\n",
              "      <td>27304000</td>\n",
              "      <td>184330</td>\n",
              "      <td>0.0</td>\n",
              "      <td>3.0</td>\n",
              "      <td>1425.0</td>\n",
              "      <td>1015.0</td>\n",
              "    </tr>\n",
              "    <tr>\n",
              "      <th>4</th>\n",
              "      <td>C2483</td>\n",
              "      <td>900</td>\n",
              "      <td>아파트</td>\n",
              "      <td>경상북도</td>\n",
              "      <td>국민임대</td>\n",
              "      <td>51.93</td>\n",
              "      <td>41</td>\n",
              "      <td>38.0</td>\n",
              "      <td>A</td>\n",
              "      <td>27304000</td>\n",
              "      <td>184330</td>\n",
              "      <td>0.0</td>\n",
              "      <td>3.0</td>\n",
              "      <td>1425.0</td>\n",
              "      <td>1015.0</td>\n",
              "    </tr>\n",
              "  </tbody>\n",
              "</table>\n",
              "</div>"
            ],
            "text/plain": [
              "    단지코드  총세대수 임대건물구분  ... 도보 10분거리 내 버스정류장 수 단지내주차면수   등록차량수\n",
              "0  C2483   900    아파트  ...                3.0  1425.0  1015.0\n",
              "1  C2483   900    아파트  ...                3.0  1425.0  1015.0\n",
              "2  C2483   900    아파트  ...                3.0  1425.0  1015.0\n",
              "3  C2483   900    아파트  ...                3.0  1425.0  1015.0\n",
              "4  C2483   900    아파트  ...                3.0  1425.0  1015.0\n",
              "\n",
              "[5 rows x 15 columns]"
            ]
          },
          "metadata": {
            "tags": []
          },
          "execution_count": 10
        }
      ]
    },
    {
      "cell_type": "code",
      "metadata": {
        "colab": {
          "base_uri": "https://localhost:8080/"
        },
        "id": "j7HGRH17-oY4",
        "outputId": "38c85d2e-1a83-4dbd-88b2-43bf86442a9c"
      },
      "source": [
        "train_df.shape"
      ],
      "execution_count": 12,
      "outputs": [
        {
          "output_type": "execute_result",
          "data": {
            "text/plain": [
              "(2952, 15)"
            ]
          },
          "metadata": {
            "tags": []
          },
          "execution_count": 12
        }
      ]
    },
    {
      "cell_type": "code",
      "metadata": {
        "colab": {
          "base_uri": "https://localhost:8080/",
          "height": 204
        },
        "id": "ctN-N3IY-qmk",
        "outputId": "46873be9-b2a0-499f-9bdd-dc9e8519c5f3"
      },
      "source": [
        "test_df.head()"
      ],
      "execution_count": 13,
      "outputs": [
        {
          "output_type": "execute_result",
          "data": {
            "text/html": [
              "<div>\n",
              "<style scoped>\n",
              "    .dataframe tbody tr th:only-of-type {\n",
              "        vertical-align: middle;\n",
              "    }\n",
              "\n",
              "    .dataframe tbody tr th {\n",
              "        vertical-align: top;\n",
              "    }\n",
              "\n",
              "    .dataframe thead th {\n",
              "        text-align: right;\n",
              "    }\n",
              "</style>\n",
              "<table border=\"1\" class=\"dataframe\">\n",
              "  <thead>\n",
              "    <tr style=\"text-align: right;\">\n",
              "      <th></th>\n",
              "      <th>단지코드</th>\n",
              "      <th>총세대수</th>\n",
              "      <th>임대건물구분</th>\n",
              "      <th>지역</th>\n",
              "      <th>공급유형</th>\n",
              "      <th>전용면적</th>\n",
              "      <th>전용면적별세대수</th>\n",
              "      <th>공가수</th>\n",
              "      <th>자격유형</th>\n",
              "      <th>임대보증금</th>\n",
              "      <th>임대료</th>\n",
              "      <th>도보 10분거리 내 지하철역 수(환승노선 수 반영)</th>\n",
              "      <th>도보 10분거리 내 버스정류장 수</th>\n",
              "      <th>단지내주차면수</th>\n",
              "    </tr>\n",
              "  </thead>\n",
              "  <tbody>\n",
              "    <tr>\n",
              "      <th>0</th>\n",
              "      <td>C1072</td>\n",
              "      <td>754</td>\n",
              "      <td>아파트</td>\n",
              "      <td>경기도</td>\n",
              "      <td>국민임대</td>\n",
              "      <td>39.79</td>\n",
              "      <td>116</td>\n",
              "      <td>14.0</td>\n",
              "      <td>H</td>\n",
              "      <td>22830000</td>\n",
              "      <td>189840</td>\n",
              "      <td>0.0</td>\n",
              "      <td>2.0</td>\n",
              "      <td>683.0</td>\n",
              "    </tr>\n",
              "    <tr>\n",
              "      <th>1</th>\n",
              "      <td>C1072</td>\n",
              "      <td>754</td>\n",
              "      <td>아파트</td>\n",
              "      <td>경기도</td>\n",
              "      <td>국민임대</td>\n",
              "      <td>46.81</td>\n",
              "      <td>30</td>\n",
              "      <td>14.0</td>\n",
              "      <td>A</td>\n",
              "      <td>36048000</td>\n",
              "      <td>249930</td>\n",
              "      <td>0.0</td>\n",
              "      <td>2.0</td>\n",
              "      <td>683.0</td>\n",
              "    </tr>\n",
              "    <tr>\n",
              "      <th>2</th>\n",
              "      <td>C1072</td>\n",
              "      <td>754</td>\n",
              "      <td>아파트</td>\n",
              "      <td>경기도</td>\n",
              "      <td>국민임대</td>\n",
              "      <td>46.90</td>\n",
              "      <td>112</td>\n",
              "      <td>14.0</td>\n",
              "      <td>H</td>\n",
              "      <td>36048000</td>\n",
              "      <td>249930</td>\n",
              "      <td>0.0</td>\n",
              "      <td>2.0</td>\n",
              "      <td>683.0</td>\n",
              "    </tr>\n",
              "    <tr>\n",
              "      <th>3</th>\n",
              "      <td>C1072</td>\n",
              "      <td>754</td>\n",
              "      <td>아파트</td>\n",
              "      <td>경기도</td>\n",
              "      <td>국민임대</td>\n",
              "      <td>46.90</td>\n",
              "      <td>120</td>\n",
              "      <td>14.0</td>\n",
              "      <td>H</td>\n",
              "      <td>36048000</td>\n",
              "      <td>249930</td>\n",
              "      <td>0.0</td>\n",
              "      <td>2.0</td>\n",
              "      <td>683.0</td>\n",
              "    </tr>\n",
              "    <tr>\n",
              "      <th>4</th>\n",
              "      <td>C1072</td>\n",
              "      <td>754</td>\n",
              "      <td>아파트</td>\n",
              "      <td>경기도</td>\n",
              "      <td>국민임대</td>\n",
              "      <td>51.46</td>\n",
              "      <td>60</td>\n",
              "      <td>14.0</td>\n",
              "      <td>H</td>\n",
              "      <td>43497000</td>\n",
              "      <td>296780</td>\n",
              "      <td>0.0</td>\n",
              "      <td>2.0</td>\n",
              "      <td>683.0</td>\n",
              "    </tr>\n",
              "  </tbody>\n",
              "</table>\n",
              "</div>"
            ],
            "text/plain": [
              "    단지코드  총세대수  ... 도보 10분거리 내 버스정류장 수 단지내주차면수\n",
              "0  C1072   754  ...                2.0   683.0\n",
              "1  C1072   754  ...                2.0   683.0\n",
              "2  C1072   754  ...                2.0   683.0\n",
              "3  C1072   754  ...                2.0   683.0\n",
              "4  C1072   754  ...                2.0   683.0\n",
              "\n",
              "[5 rows x 14 columns]"
            ]
          },
          "metadata": {
            "tags": []
          },
          "execution_count": 13
        }
      ]
    },
    {
      "cell_type": "code",
      "metadata": {
        "colab": {
          "base_uri": "https://localhost:8080/"
        },
        "id": "4how5PUu-ton",
        "outputId": "7a2c1e3f-3658-44c0-f850-0d6bf8ecca9e"
      },
      "source": [
        "test_df.shape"
      ],
      "execution_count": 14,
      "outputs": [
        {
          "output_type": "execute_result",
          "data": {
            "text/plain": [
              "(1022, 14)"
            ]
          },
          "metadata": {
            "tags": []
          },
          "execution_count": 14
        }
      ]
    },
    {
      "cell_type": "code",
      "metadata": {
        "colab": {
          "base_uri": "https://localhost:8080/",
          "height": 323
        },
        "id": "ifnHxoaD-vPS",
        "outputId": "8281580a-08a2-45ca-9025-e770c177e8a3"
      },
      "source": [
        "info_df.head()"
      ],
      "execution_count": 15,
      "outputs": [
        {
          "output_type": "execute_result",
          "data": {
            "text/html": [
              "<div>\n",
              "<style scoped>\n",
              "    .dataframe tbody tr th:only-of-type {\n",
              "        vertical-align: middle;\n",
              "    }\n",
              "\n",
              "    .dataframe tbody tr th {\n",
              "        vertical-align: top;\n",
              "    }\n",
              "\n",
              "    .dataframe thead th {\n",
              "        text-align: right;\n",
              "    }\n",
              "</style>\n",
              "<table border=\"1\" class=\"dataframe\">\n",
              "  <thead>\n",
              "    <tr style=\"text-align: right;\">\n",
              "      <th></th>\n",
              "      <th>지역</th>\n",
              "      <th>10대미만(여자)</th>\n",
              "      <th>10대미만(남자)</th>\n",
              "      <th>10대(여자)</th>\n",
              "      <th>10대(남자)</th>\n",
              "      <th>20대(여자)</th>\n",
              "      <th>20대(남자)</th>\n",
              "      <th>30대(여자)</th>\n",
              "      <th>30대(남자)</th>\n",
              "      <th>40대(여자)</th>\n",
              "      <th>40대(남자)</th>\n",
              "      <th>50대(여자)</th>\n",
              "      <th>50대(남자)</th>\n",
              "      <th>60대(여자)</th>\n",
              "      <th>60대(남자)</th>\n",
              "      <th>70대(여자)</th>\n",
              "      <th>70대(남자)</th>\n",
              "      <th>80대(여자)</th>\n",
              "      <th>80대(남자)</th>\n",
              "      <th>90대(여자)</th>\n",
              "      <th>90대(남자)</th>\n",
              "      <th>100대(여자)</th>\n",
              "      <th>100대(남자)</th>\n",
              "    </tr>\n",
              "  </thead>\n",
              "  <tbody>\n",
              "    <tr>\n",
              "      <th>0</th>\n",
              "      <td>경상북도</td>\n",
              "      <td>0.030158</td>\n",
              "      <td>0.033195</td>\n",
              "      <td>0.056346</td>\n",
              "      <td>0.061360</td>\n",
              "      <td>0.060096</td>\n",
              "      <td>0.067859</td>\n",
              "      <td>0.053433</td>\n",
              "      <td>0.049572</td>\n",
              "      <td>0.083660</td>\n",
              "      <td>0.072613</td>\n",
              "      <td>0.087149</td>\n",
              "      <td>0.072146</td>\n",
              "      <td>0.082684</td>\n",
              "      <td>0.063889</td>\n",
              "      <td>0.047717</td>\n",
              "      <td>0.030172</td>\n",
              "      <td>0.029361</td>\n",
              "      <td>0.011211</td>\n",
              "      <td>0.005578</td>\n",
              "      <td>0.001553</td>\n",
              "      <td>0.000234</td>\n",
              "      <td>0.000014</td>\n",
              "    </tr>\n",
              "    <tr>\n",
              "      <th>1</th>\n",
              "      <td>경상남도</td>\n",
              "      <td>0.027400</td>\n",
              "      <td>0.026902</td>\n",
              "      <td>0.053257</td>\n",
              "      <td>0.055568</td>\n",
              "      <td>0.064920</td>\n",
              "      <td>0.070618</td>\n",
              "      <td>0.056414</td>\n",
              "      <td>0.057550</td>\n",
              "      <td>0.077092</td>\n",
              "      <td>0.067600</td>\n",
              "      <td>0.086873</td>\n",
              "      <td>0.072570</td>\n",
              "      <td>0.087201</td>\n",
              "      <td>0.069562</td>\n",
              "      <td>0.048357</td>\n",
              "      <td>0.033277</td>\n",
              "      <td>0.027361</td>\n",
              "      <td>0.011295</td>\n",
              "      <td>0.004910</td>\n",
              "      <td>0.001086</td>\n",
              "      <td>0.000179</td>\n",
              "      <td>0.000010</td>\n",
              "    </tr>\n",
              "    <tr>\n",
              "      <th>2</th>\n",
              "      <td>대전광역시</td>\n",
              "      <td>0.028197</td>\n",
              "      <td>0.029092</td>\n",
              "      <td>0.040490</td>\n",
              "      <td>0.042793</td>\n",
              "      <td>0.060834</td>\n",
              "      <td>0.064247</td>\n",
              "      <td>0.068654</td>\n",
              "      <td>0.066848</td>\n",
              "      <td>0.074667</td>\n",
              "      <td>0.067925</td>\n",
              "      <td>0.085751</td>\n",
              "      <td>0.068819</td>\n",
              "      <td>0.088468</td>\n",
              "      <td>0.070261</td>\n",
              "      <td>0.051010</td>\n",
              "      <td>0.037143</td>\n",
              "      <td>0.032455</td>\n",
              "      <td>0.013751</td>\n",
              "      <td>0.006494</td>\n",
              "      <td>0.001740</td>\n",
              "      <td>0.000298</td>\n",
              "      <td>0.000066</td>\n",
              "    </tr>\n",
              "    <tr>\n",
              "      <th>3</th>\n",
              "      <td>경기도</td>\n",
              "      <td>0.038030</td>\n",
              "      <td>0.039507</td>\n",
              "      <td>0.052546</td>\n",
              "      <td>0.053990</td>\n",
              "      <td>0.058484</td>\n",
              "      <td>0.059894</td>\n",
              "      <td>0.072331</td>\n",
              "      <td>0.068704</td>\n",
              "      <td>0.083208</td>\n",
              "      <td>0.078355</td>\n",
              "      <td>0.077345</td>\n",
              "      <td>0.064859</td>\n",
              "      <td>0.074237</td>\n",
              "      <td>0.058419</td>\n",
              "      <td>0.042422</td>\n",
              "      <td>0.032725</td>\n",
              "      <td>0.025136</td>\n",
              "      <td>0.012354</td>\n",
              "      <td>0.005390</td>\n",
              "      <td>0.001707</td>\n",
              "      <td>0.000290</td>\n",
              "      <td>0.000067</td>\n",
              "    </tr>\n",
              "    <tr>\n",
              "      <th>4</th>\n",
              "      <td>전라북도</td>\n",
              "      <td>0.028089</td>\n",
              "      <td>0.029065</td>\n",
              "      <td>0.059685</td>\n",
              "      <td>0.060080</td>\n",
              "      <td>0.066262</td>\n",
              "      <td>0.070322</td>\n",
              "      <td>0.052027</td>\n",
              "      <td>0.046596</td>\n",
              "      <td>0.077005</td>\n",
              "      <td>0.066645</td>\n",
              "      <td>0.081408</td>\n",
              "      <td>0.074382</td>\n",
              "      <td>0.076636</td>\n",
              "      <td>0.068042</td>\n",
              "      <td>0.051025</td>\n",
              "      <td>0.035748</td>\n",
              "      <td>0.035049</td>\n",
              "      <td>0.012641</td>\n",
              "      <td>0.007223</td>\n",
              "      <td>0.001898</td>\n",
              "      <td>0.000158</td>\n",
              "      <td>0.000013</td>\n",
              "    </tr>\n",
              "  </tbody>\n",
              "</table>\n",
              "</div>"
            ],
            "text/plain": [
              "      지역  10대미만(여자)  10대미만(남자)  ...   90대(남자)  100대(여자)  100대(남자)\n",
              "0   경상북도   0.030158   0.033195  ...  0.001553  0.000234  0.000014\n",
              "1   경상남도   0.027400   0.026902  ...  0.001086  0.000179  0.000010\n",
              "2  대전광역시   0.028197   0.029092  ...  0.001740  0.000298  0.000066\n",
              "3    경기도   0.038030   0.039507  ...  0.001707  0.000290  0.000067\n",
              "4   전라북도   0.028089   0.029065  ...  0.001898  0.000158  0.000013\n",
              "\n",
              "[5 rows x 23 columns]"
            ]
          },
          "metadata": {
            "tags": []
          },
          "execution_count": 15
        }
      ]
    },
    {
      "cell_type": "code",
      "metadata": {
        "colab": {
          "base_uri": "https://localhost:8080/"
        },
        "id": "QeMUU0rY-yWS",
        "outputId": "45c5cc61-0d31-4888-92b4-91f2c57fc7f2"
      },
      "source": [
        "info_df.shape"
      ],
      "execution_count": 16,
      "outputs": [
        {
          "output_type": "execute_result",
          "data": {
            "text/plain": [
              "(16, 23)"
            ]
          },
          "metadata": {
            "tags": []
          },
          "execution_count": 16
        }
      ]
    },
    {
      "cell_type": "code",
      "metadata": {
        "colab": {
          "base_uri": "https://localhost:8080/"
        },
        "id": "_l_20loa-0_u",
        "outputId": "49774766-b63e-4b9f-ab37-9509cd1790f1"
      },
      "source": [
        "train_df.isna().sum()"
      ],
      "execution_count": 20,
      "outputs": [
        {
          "output_type": "execute_result",
          "data": {
            "text/plain": [
              "단지코드                              0\n",
              "총세대수                              0\n",
              "임대건물구분                            0\n",
              "지역                                0\n",
              "공급유형                              0\n",
              "전용면적                              0\n",
              "전용면적별세대수                          0\n",
              "공가수                               0\n",
              "자격유형                              0\n",
              "임대보증금                           569\n",
              "임대료                             569\n",
              "도보 10분거리 내 지하철역 수(환승노선 수 반영)    211\n",
              "도보 10분거리 내 버스정류장 수                4\n",
              "단지내주차면수                           0\n",
              "등록차량수                             0\n",
              "dtype: int64"
            ]
          },
          "metadata": {
            "tags": []
          },
          "execution_count": 20
        }
      ]
    },
    {
      "cell_type": "code",
      "metadata": {
        "id": "YUBPqpRy_9P5"
      },
      "source": [
        "train_df.columns = [\n",
        "    '단지코드', '총세대수', '임대건물구분', '지역', '공급유형', '전용면적', '전용면적별세대수', '공가수', '신분',\n",
        "    '임대보증금', '임대료', '지하철', '버스',\n",
        "    '단지내주차면수', '등록차량수'\n",
        "]\n",
        "\n",
        "test_df.columns = [\n",
        "    '단지코드', '총세대수', '임대건물구분', '지역', '공급유형', '전용면적', '전용면적별세대수', '공가수', '신분',\n",
        "    '임대보증금', '임대료', '지하철', '버스',\n",
        "    '단지내주차면수'\n",
        "]"
      ],
      "execution_count": 50,
      "outputs": []
    },
    {
      "cell_type": "code",
      "metadata": {
        "id": "YLhkYrbf_9SH"
      },
      "source": [
        "local_map = {}\n",
        "for i, loc in enumerate(train_df['지역'].unique()):\n",
        "    local_map[loc] = i"
      ],
      "execution_count": 51,
      "outputs": []
    },
    {
      "cell_type": "code",
      "metadata": {
        "id": "PywPTVzp_9Uc"
      },
      "source": [
        "train_df['지역'] = train_df['지역'].map(local_map)\n",
        "test_df['지역'] = test_df['지역'].map(local_map)"
      ],
      "execution_count": 52,
      "outputs": []
    },
    {
      "cell_type": "code",
      "metadata": {
        "id": "d1WUk8Nt_9W3"
      },
      "source": [
        "train_df['전용면적'] = train_df['전용면적']//5*5\n",
        "test_df['전용면적'] = test_df['전용면적']//5*5"
      ],
      "execution_count": 53,
      "outputs": []
    },
    {
      "cell_type": "code",
      "metadata": {
        "id": "ZO-To9TYBtZs"
      },
      "source": [
        "columns = ['단지코드', '총세대수', '공가수', '지역', '단지내주차면수', '지하철', '버스']\n",
        "target = '등록차량수'\n",
        "area_columns = []\n",
        "for area in train_df['전용면적'].unique():\n",
        "    area_columns.append(f'면적_{area}')"
      ],
      "execution_count": 54,
      "outputs": []
    },
    {
      "cell_type": "code",
      "metadata": {
        "id": "rpF0F-xbByai"
      },
      "source": [
        "new_train = pd.DataFrame()\n",
        "new_test = pd.DataFrame()"
      ],
      "execution_count": 55,
      "outputs": []
    },
    {
      "cell_type": "code",
      "metadata": {
        "colab": {
          "base_uri": "https://localhost:8080/"
        },
        "id": "Q2CKMn73B0zB",
        "outputId": "225ef843-4776-4da7-acab-2241ed9590b9"
      },
      "source": [
        "for i, code in tqdm(enumerate(train_df['단지코드'].unique())):\n",
        "    temp = train_df[train_df['단지코드']==code]\n",
        "    temp.index = range(temp.shape[0])\n",
        "    for col in columns:\n",
        "        new_train.loc[i, col] = temp.loc[0, col]\n",
        "    \n",
        "    for col in area_columns:\n",
        "        area = float(col.split('_')[-1])\n",
        "        new_train.loc[i, col] = temp[temp['전용면적']==area]['전용면적별세대수'].sum()\n",
        "    \n",
        "    new_train.loc[i, '등록차량수'] = temp.loc[0, '등록차량수']\n",
        "    \n",
        "for i, code in tqdm(enumerate(test_df['단지코드'].unique())):\n",
        "    temp = test_df[test_df['단지코드']==code]\n",
        "    temp.index = range(temp.shape[0])\n",
        "    for col in columns:\n",
        "        new_test.loc[i, col] = temp.loc[0, col]\n",
        "    \n",
        "    for col in area_columns:\n",
        "        area = float(col.split('_')[-1])\n",
        "        new_test.loc[i, col] = temp[temp['전용면적']==area]['전용면적별세대수'].sum()"
      ],
      "execution_count": 56,
      "outputs": [
        {
          "output_type": "stream",
          "text": [
            "\n",
            "0it [00:00, ?it/s]\u001b[A\n",
            "2it [00:00, 18.17it/s]\u001b[A\n",
            "5it [00:00, 19.53it/s]\u001b[A\n",
            "8it [00:00, 20.16it/s]\u001b[A\n",
            "11it [00:00, 20.99it/s]\u001b[A\n",
            "13it [00:00, 20.35it/s]\u001b[A\n",
            "16it [00:00, 21.14it/s]\u001b[A\n",
            "19it [00:00, 21.90it/s]\u001b[A\n",
            "22it [00:00, 22.20it/s]\u001b[A\n",
            "25it [00:01, 22.31it/s]\u001b[A\n",
            "28it [00:01, 22.36it/s]\u001b[A\n",
            "31it [00:01, 21.86it/s]\u001b[A\n",
            "34it [00:01, 21.82it/s]\u001b[A\n",
            "37it [00:01, 21.34it/s]\u001b[A\n",
            "40it [00:01, 21.35it/s]\u001b[A\n",
            "43it [00:01, 20.96it/s]\u001b[A\n",
            "46it [00:02, 20.97it/s]\u001b[A\n",
            "49it [00:02, 20.79it/s]\u001b[A\n",
            "52it [00:02, 21.02it/s]\u001b[A\n",
            "55it [00:02, 22.12it/s]\u001b[A\n",
            "58it [00:02, 22.50it/s]\u001b[A\n",
            "61it [00:02, 22.79it/s]\u001b[A\n",
            "64it [00:02, 22.58it/s]\u001b[A\n",
            "67it [00:03, 22.38it/s]\u001b[A\n",
            "70it [00:03, 22.11it/s]\u001b[A\n",
            "73it [00:03, 21.52it/s]\u001b[A\n",
            "76it [00:03, 21.60it/s]\u001b[A\n",
            "79it [00:03, 21.57it/s]\u001b[A\n",
            "82it [00:03, 21.50it/s]\u001b[A\n",
            "85it [00:03, 21.77it/s]\u001b[A\n",
            "88it [00:04, 21.72it/s]\u001b[A\n",
            "91it [00:04, 21.29it/s]\u001b[A\n",
            "94it [00:04, 22.42it/s]\u001b[A\n",
            "97it [00:04, 23.43it/s]\u001b[A\n",
            "100it [00:04, 24.14it/s]\u001b[A\n",
            "103it [00:04, 22.99it/s]\u001b[A\n",
            "106it [00:04, 23.18it/s]\u001b[A\n",
            "109it [00:04, 23.35it/s]\u001b[A\n",
            "112it [00:05, 22.82it/s]\u001b[A\n",
            "115it [00:05, 23.31it/s]\u001b[A\n",
            "118it [00:05, 23.77it/s]\u001b[A\n",
            "121it [00:05, 23.64it/s]\u001b[A\n",
            "124it [00:05, 22.33it/s]\u001b[A\n",
            "127it [00:05, 22.15it/s]\u001b[A\n",
            "130it [00:05, 21.99it/s]\u001b[A\n",
            "133it [00:06, 21.95it/s]\u001b[A\n",
            "136it [00:06, 22.86it/s]\u001b[A\n",
            "139it [00:06, 23.51it/s]\u001b[A\n",
            "142it [00:06, 23.11it/s]\u001b[A\n",
            "145it [00:06, 22.47it/s]\u001b[A\n",
            "148it [00:06, 22.42it/s]\u001b[A\n",
            "151it [00:06, 22.39it/s]\u001b[A\n",
            "154it [00:06, 22.91it/s]\u001b[A\n",
            "157it [00:07, 23.06it/s]\u001b[A\n",
            "160it [00:07, 22.32it/s]\u001b[A\n",
            "163it [00:07, 22.04it/s]\u001b[A\n",
            "166it [00:07, 22.32it/s]\u001b[A\n",
            "169it [00:07, 21.92it/s]\u001b[A\n",
            "172it [00:07, 21.71it/s]\u001b[A\n",
            "175it [00:07, 22.33it/s]\u001b[A\n",
            "178it [00:07, 22.91it/s]\u001b[A\n",
            "181it [00:08, 23.33it/s]\u001b[A\n",
            "184it [00:08, 23.96it/s]\u001b[A\n",
            "187it [00:08, 24.04it/s]\u001b[A\n",
            "190it [00:08, 24.58it/s]\u001b[A\n",
            "193it [00:08, 24.61it/s]\u001b[A\n",
            "196it [00:08, 23.63it/s]\u001b[A\n",
            "199it [00:08, 24.05it/s]\u001b[A\n",
            "202it [00:08, 24.75it/s]\u001b[A\n",
            "205it [00:09, 24.77it/s]\u001b[A\n",
            "208it [00:09, 25.36it/s]\u001b[A\n",
            "211it [00:09, 25.07it/s]\u001b[A\n",
            "214it [00:09, 25.10it/s]\u001b[A\n",
            "217it [00:09, 24.25it/s]\u001b[A\n",
            "220it [00:09, 24.99it/s]\u001b[A\n",
            "223it [00:09, 24.87it/s]\u001b[A\n",
            "226it [00:09, 25.10it/s]\u001b[A\n",
            "229it [00:10, 25.71it/s]\u001b[A\n",
            "232it [00:10, 26.24it/s]\u001b[A\n",
            "235it [00:10, 26.33it/s]\u001b[A\n",
            "238it [00:10, 25.54it/s]\u001b[A\n",
            "241it [00:10, 25.26it/s]\u001b[A\n",
            "244it [00:10, 25.48it/s]\u001b[A\n",
            "247it [00:10, 24.67it/s]\u001b[A\n",
            "250it [00:10, 23.68it/s]\u001b[A\n",
            "253it [00:10, 24.31it/s]\u001b[A\n",
            "256it [00:11, 25.00it/s]\u001b[A\n",
            "259it [00:11, 25.40it/s]\u001b[A\n",
            "262it [00:11, 25.88it/s]\u001b[A\n",
            "265it [00:11, 26.14it/s]\u001b[A\n",
            "268it [00:11, 25.34it/s]\u001b[A\n",
            "271it [00:11, 24.09it/s]\u001b[A\n",
            "274it [00:11, 23.59it/s]\u001b[A\n",
            "277it [00:11, 22.84it/s]\u001b[A\n",
            "280it [00:12, 23.50it/s]\u001b[A\n",
            "283it [00:12, 23.76it/s]\u001b[A\n",
            "286it [00:12, 24.40it/s]\u001b[A\n",
            "289it [00:12, 24.67it/s]\u001b[A\n",
            "292it [00:12, 24.77it/s]\u001b[A\n",
            "295it [00:12, 24.22it/s]\u001b[A\n",
            "298it [00:12, 23.15it/s]\u001b[A\n",
            "301it [00:12, 23.70it/s]\u001b[A\n",
            "304it [00:13, 23.51it/s]\u001b[A\n",
            "307it [00:13, 23.26it/s]\u001b[A\n",
            "310it [00:13, 22.22it/s]\u001b[A\n",
            "313it [00:13, 23.00it/s]\u001b[A\n",
            "316it [00:13, 23.30it/s]\u001b[A\n",
            "319it [00:13, 22.90it/s]\u001b[A\n",
            "322it [00:13, 22.54it/s]\u001b[A\n",
            "325it [00:14, 22.46it/s]\u001b[A\n",
            "328it [00:14, 22.34it/s]\u001b[A\n",
            "331it [00:14, 22.05it/s]\u001b[A\n",
            "334it [00:14, 22.45it/s]\u001b[A\n",
            "337it [00:14, 22.74it/s]\u001b[A\n",
            "340it [00:14, 22.96it/s]\u001b[A\n",
            "343it [00:14, 22.64it/s]\u001b[A\n",
            "346it [00:14, 23.00it/s]\u001b[A\n",
            "349it [00:15, 22.89it/s]\u001b[A\n",
            "352it [00:15, 22.95it/s]\u001b[A\n",
            "355it [00:15, 22.91it/s]\u001b[A\n",
            "358it [00:15, 24.01it/s]\u001b[A\n",
            "361it [00:15, 24.92it/s]\u001b[A\n",
            "364it [00:15, 24.07it/s]\u001b[A\n",
            "367it [00:15, 24.49it/s]\u001b[A\n",
            "370it [00:15, 23.96it/s]\u001b[A\n",
            "373it [00:16, 23.15it/s]\u001b[A\n",
            "376it [00:16, 22.36it/s]\u001b[A\n",
            "379it [00:16, 22.60it/s]\u001b[A\n",
            "382it [00:16, 23.26it/s]\u001b[A\n",
            "385it [00:16, 22.97it/s]\u001b[A\n",
            "388it [00:16, 23.73it/s]\u001b[A\n",
            "391it [00:16, 24.82it/s]\u001b[A\n",
            "394it [00:16, 24.87it/s]\u001b[A\n",
            "397it [00:17, 24.78it/s]\u001b[A\n",
            "400it [00:17, 25.02it/s]\u001b[A\n",
            "403it [00:17, 24.93it/s]\u001b[A\n",
            "406it [00:17, 24.98it/s]\u001b[A\n",
            "409it [00:17, 24.41it/s]\u001b[A\n",
            "412it [00:17, 25.24it/s]\u001b[A\n",
            "415it [00:17, 25.93it/s]\u001b[A\n",
            "418it [00:17, 25.78it/s]\u001b[A\n",
            "423it [00:18, 23.33it/s]\n",
            "\n",
            "0it [00:00, ?it/s]\u001b[A\n",
            "2it [00:00, 17.10it/s]\u001b[A\n",
            "5it [00:00, 18.29it/s]\u001b[A\n",
            "8it [00:00, 19.56it/s]\u001b[A\n",
            "11it [00:00, 20.79it/s]\u001b[A\n",
            "14it [00:00, 21.61it/s]\u001b[A\n",
            "17it [00:00, 21.92it/s]\u001b[A\n",
            "20it [00:00, 22.94it/s]\u001b[A\n",
            "23it [00:01, 23.61it/s]\u001b[A\n",
            "26it [00:01, 24.37it/s]\u001b[A\n",
            "29it [00:01, 23.71it/s]\u001b[A\n",
            "32it [00:01, 23.71it/s]\u001b[A\n",
            "35it [00:01, 22.59it/s]\u001b[A\n",
            "38it [00:01, 22.44it/s]\u001b[A\n",
            "41it [00:01, 22.11it/s]\u001b[A\n",
            "44it [00:01, 22.67it/s]\u001b[A\n",
            "47it [00:02, 22.56it/s]\u001b[A\n",
            "50it [00:02, 23.02it/s]\u001b[A\n",
            "53it [00:02, 22.39it/s]\u001b[A\n",
            "56it [00:02, 22.30it/s]\u001b[A\n",
            "59it [00:02, 23.12it/s]\u001b[A\n",
            "62it [00:02, 23.52it/s]\u001b[A\n",
            "65it [00:02, 22.64it/s]\u001b[A\n",
            "68it [00:02, 22.38it/s]\u001b[A\n",
            "71it [00:03, 21.96it/s]\u001b[A\n",
            "74it [00:03, 21.81it/s]\u001b[A\n",
            "77it [00:03, 21.76it/s]\u001b[A\n",
            "80it [00:03, 22.24it/s]\u001b[A\n",
            "83it [00:03, 22.58it/s]\u001b[A\n",
            "86it [00:03, 22.19it/s]\u001b[A\n",
            "89it [00:03, 22.71it/s]\u001b[A\n",
            "92it [00:04, 22.99it/s]\u001b[A\n",
            "95it [00:04, 24.04it/s]\u001b[A\n",
            "98it [00:04, 24.18it/s]\u001b[A\n",
            "101it [00:04, 23.85it/s]\u001b[A\n",
            "104it [00:04, 23.79it/s]\u001b[A\n",
            "107it [00:04, 24.18it/s]\u001b[A\n",
            "110it [00:04, 25.34it/s]\u001b[A\n",
            "113it [00:04, 24.98it/s]\u001b[A\n",
            "116it [00:05, 25.45it/s]\u001b[A\n",
            "119it [00:05, 25.65it/s]\u001b[A\n",
            "122it [00:05, 25.27it/s]\u001b[A\n",
            "125it [00:05, 24.17it/s]\u001b[A\n",
            "128it [00:05, 24.02it/s]\u001b[A\n",
            "131it [00:05, 23.37it/s]\u001b[A\n",
            "134it [00:05, 23.50it/s]\u001b[A\n",
            "137it [00:05, 22.93it/s]\u001b[A\n",
            "140it [00:06, 23.56it/s]\u001b[A\n",
            "143it [00:06, 24.50it/s]\u001b[A\n",
            "146it [00:06, 24.31it/s]\u001b[A\n",
            "150it [00:06, 23.30it/s]\n"
          ],
          "name": "stderr"
        }
      ]
    },
    {
      "cell_type": "code",
      "metadata": {
        "id": "MeQ1LK1L_9ZR"
      },
      "source": [
        "new_train = new_train.fillna(-1)\n",
        "new_test = new_test.fillna(-1)"
      ],
      "execution_count": 57,
      "outputs": []
    },
    {
      "cell_type": "code",
      "metadata": {
        "colab": {
          "base_uri": "https://localhost:8080/",
          "height": 238
        },
        "id": "_ZdTjAkXDQP1",
        "outputId": "bb76df40-db9b-4e2b-c8b8-d1772631139f"
      },
      "source": [
        "new_train.head()"
      ],
      "execution_count": 59,
      "outputs": [
        {
          "output_type": "execute_result",
          "data": {
            "text/html": [
              "<div>\n",
              "<style scoped>\n",
              "    .dataframe tbody tr th:only-of-type {\n",
              "        vertical-align: middle;\n",
              "    }\n",
              "\n",
              "    .dataframe tbody tr th {\n",
              "        vertical-align: top;\n",
              "    }\n",
              "\n",
              "    .dataframe thead th {\n",
              "        text-align: right;\n",
              "    }\n",
              "</style>\n",
              "<table border=\"1\" class=\"dataframe\">\n",
              "  <thead>\n",
              "    <tr style=\"text-align: right;\">\n",
              "      <th></th>\n",
              "      <th>단지코드</th>\n",
              "      <th>총세대수</th>\n",
              "      <th>공가수</th>\n",
              "      <th>지역</th>\n",
              "      <th>단지내주차면수</th>\n",
              "      <th>지하철</th>\n",
              "      <th>버스</th>\n",
              "      <th>면적_35.0</th>\n",
              "      <th>면적_50.0</th>\n",
              "      <th>면적_55.0</th>\n",
              "      <th>면적_30.0</th>\n",
              "      <th>면적_45.0</th>\n",
              "      <th>면적_40.0</th>\n",
              "      <th>면적_25.0</th>\n",
              "      <th>면적_70.0</th>\n",
              "      <th>면적_10.0</th>\n",
              "      <th>면적_15.0</th>\n",
              "      <th>면적_20.0</th>\n",
              "      <th>면적_315.0</th>\n",
              "      <th>면적_60.0</th>\n",
              "      <th>면적_135.0</th>\n",
              "      <th>면적_75.0</th>\n",
              "      <th>면적_105.0</th>\n",
              "      <th>면적_580.0</th>\n",
              "      <th>면적_125.0</th>\n",
              "      <th>면적_240.0</th>\n",
              "      <th>면적_400.0</th>\n",
              "      <th>면적_245.0</th>\n",
              "      <th>면적_405.0</th>\n",
              "      <th>면적_80.0</th>\n",
              "      <th>면적_65.0</th>\n",
              "      <th>등록차량수</th>\n",
              "    </tr>\n",
              "  </thead>\n",
              "  <tbody>\n",
              "    <tr>\n",
              "      <th>0</th>\n",
              "      <td>C2483</td>\n",
              "      <td>900.0</td>\n",
              "      <td>38.0</td>\n",
              "      <td>0.0</td>\n",
              "      <td>1425.0</td>\n",
              "      <td>0.0</td>\n",
              "      <td>3.0</td>\n",
              "      <td>149.0</td>\n",
              "      <td>665.0</td>\n",
              "      <td>86.0</td>\n",
              "      <td>0.0</td>\n",
              "      <td>0.0</td>\n",
              "      <td>0.0</td>\n",
              "      <td>0.0</td>\n",
              "      <td>0.0</td>\n",
              "      <td>0.0</td>\n",
              "      <td>0.0</td>\n",
              "      <td>0.0</td>\n",
              "      <td>0.0</td>\n",
              "      <td>0.0</td>\n",
              "      <td>0.0</td>\n",
              "      <td>0.0</td>\n",
              "      <td>0.0</td>\n",
              "      <td>0.0</td>\n",
              "      <td>0.0</td>\n",
              "      <td>0.0</td>\n",
              "      <td>0.0</td>\n",
              "      <td>0.0</td>\n",
              "      <td>0.0</td>\n",
              "      <td>0.0</td>\n",
              "      <td>0.0</td>\n",
              "      <td>1015.0</td>\n",
              "    </tr>\n",
              "    <tr>\n",
              "      <th>1</th>\n",
              "      <td>C2515</td>\n",
              "      <td>545.0</td>\n",
              "      <td>17.0</td>\n",
              "      <td>1.0</td>\n",
              "      <td>624.0</td>\n",
              "      <td>0.0</td>\n",
              "      <td>3.0</td>\n",
              "      <td>80.0</td>\n",
              "      <td>132.0</td>\n",
              "      <td>0.0</td>\n",
              "      <td>276.0</td>\n",
              "      <td>57.0</td>\n",
              "      <td>0.0</td>\n",
              "      <td>0.0</td>\n",
              "      <td>0.0</td>\n",
              "      <td>0.0</td>\n",
              "      <td>0.0</td>\n",
              "      <td>0.0</td>\n",
              "      <td>0.0</td>\n",
              "      <td>0.0</td>\n",
              "      <td>0.0</td>\n",
              "      <td>0.0</td>\n",
              "      <td>0.0</td>\n",
              "      <td>0.0</td>\n",
              "      <td>0.0</td>\n",
              "      <td>0.0</td>\n",
              "      <td>0.0</td>\n",
              "      <td>0.0</td>\n",
              "      <td>0.0</td>\n",
              "      <td>0.0</td>\n",
              "      <td>0.0</td>\n",
              "      <td>205.0</td>\n",
              "    </tr>\n",
              "    <tr>\n",
              "      <th>2</th>\n",
              "      <td>C1407</td>\n",
              "      <td>1216.0</td>\n",
              "      <td>13.0</td>\n",
              "      <td>2.0</td>\n",
              "      <td>1285.0</td>\n",
              "      <td>1.0</td>\n",
              "      <td>1.0</td>\n",
              "      <td>0.0</td>\n",
              "      <td>124.0</td>\n",
              "      <td>0.0</td>\n",
              "      <td>390.0</td>\n",
              "      <td>340.0</td>\n",
              "      <td>362.0</td>\n",
              "      <td>0.0</td>\n",
              "      <td>0.0</td>\n",
              "      <td>0.0</td>\n",
              "      <td>0.0</td>\n",
              "      <td>0.0</td>\n",
              "      <td>0.0</td>\n",
              "      <td>0.0</td>\n",
              "      <td>0.0</td>\n",
              "      <td>0.0</td>\n",
              "      <td>0.0</td>\n",
              "      <td>0.0</td>\n",
              "      <td>0.0</td>\n",
              "      <td>0.0</td>\n",
              "      <td>0.0</td>\n",
              "      <td>0.0</td>\n",
              "      <td>0.0</td>\n",
              "      <td>0.0</td>\n",
              "      <td>0.0</td>\n",
              "      <td>1064.0</td>\n",
              "    </tr>\n",
              "    <tr>\n",
              "      <th>3</th>\n",
              "      <td>C1945</td>\n",
              "      <td>755.0</td>\n",
              "      <td>6.0</td>\n",
              "      <td>3.0</td>\n",
              "      <td>734.0</td>\n",
              "      <td>1.0</td>\n",
              "      <td>3.0</td>\n",
              "      <td>240.0</td>\n",
              "      <td>303.0</td>\n",
              "      <td>212.0</td>\n",
              "      <td>0.0</td>\n",
              "      <td>0.0</td>\n",
              "      <td>0.0</td>\n",
              "      <td>0.0</td>\n",
              "      <td>0.0</td>\n",
              "      <td>0.0</td>\n",
              "      <td>0.0</td>\n",
              "      <td>0.0</td>\n",
              "      <td>0.0</td>\n",
              "      <td>0.0</td>\n",
              "      <td>0.0</td>\n",
              "      <td>0.0</td>\n",
              "      <td>0.0</td>\n",
              "      <td>0.0</td>\n",
              "      <td>0.0</td>\n",
              "      <td>0.0</td>\n",
              "      <td>0.0</td>\n",
              "      <td>0.0</td>\n",
              "      <td>0.0</td>\n",
              "      <td>0.0</td>\n",
              "      <td>0.0</td>\n",
              "      <td>730.0</td>\n",
              "    </tr>\n",
              "    <tr>\n",
              "      <th>4</th>\n",
              "      <td>C1470</td>\n",
              "      <td>696.0</td>\n",
              "      <td>14.0</td>\n",
              "      <td>4.0</td>\n",
              "      <td>645.0</td>\n",
              "      <td>0.0</td>\n",
              "      <td>2.0</td>\n",
              "      <td>254.0</td>\n",
              "      <td>246.0</td>\n",
              "      <td>0.0</td>\n",
              "      <td>0.0</td>\n",
              "      <td>196.0</td>\n",
              "      <td>0.0</td>\n",
              "      <td>0.0</td>\n",
              "      <td>0.0</td>\n",
              "      <td>0.0</td>\n",
              "      <td>0.0</td>\n",
              "      <td>0.0</td>\n",
              "      <td>0.0</td>\n",
              "      <td>0.0</td>\n",
              "      <td>0.0</td>\n",
              "      <td>0.0</td>\n",
              "      <td>0.0</td>\n",
              "      <td>0.0</td>\n",
              "      <td>0.0</td>\n",
              "      <td>0.0</td>\n",
              "      <td>0.0</td>\n",
              "      <td>0.0</td>\n",
              "      <td>0.0</td>\n",
              "      <td>0.0</td>\n",
              "      <td>0.0</td>\n",
              "      <td>553.0</td>\n",
              "    </tr>\n",
              "  </tbody>\n",
              "</table>\n",
              "</div>"
            ],
            "text/plain": [
              "    단지코드    총세대수   공가수   지역  ...  면적_405.0  면적_80.0  면적_65.0   등록차량수\n",
              "0  C2483   900.0  38.0  0.0  ...       0.0      0.0      0.0  1015.0\n",
              "1  C2515   545.0  17.0  1.0  ...       0.0      0.0      0.0   205.0\n",
              "2  C1407  1216.0  13.0  2.0  ...       0.0      0.0      0.0  1064.0\n",
              "3  C1945   755.0   6.0  3.0  ...       0.0      0.0      0.0   730.0\n",
              "4  C1470   696.0  14.0  4.0  ...       0.0      0.0      0.0   553.0\n",
              "\n",
              "[5 rows x 32 columns]"
            ]
          },
          "metadata": {
            "tags": []
          },
          "execution_count": 59
        }
      ]
    },
    {
      "cell_type": "code",
      "metadata": {
        "id": "Dh9ZITQy_9bq"
      },
      "source": [
        "x_train = new_train.iloc[:, 1:-1]\n",
        "y_train = new_train.iloc[:,-1]\n",
        "x_test = new_test.iloc[:,1:]"
      ],
      "execution_count": 60,
      "outputs": []
    },
    {
      "cell_type": "code",
      "metadata": {
        "id": "Qtdvgv_8_9d7"
      },
      "source": [
        "model = LGBMRegressor(n_jobs=-1, random_state=42)"
      ],
      "execution_count": 61,
      "outputs": []
    },
    {
      "cell_type": "code",
      "metadata": {
        "colab": {
          "base_uri": "https://localhost:8080/"
        },
        "id": "vRjIgC58AmWT",
        "outputId": "6f6439e9-1ca4-4611-8f46-a1fcbec0866a"
      },
      "source": [
        "model.fit(x_train, y_train)"
      ],
      "execution_count": 62,
      "outputs": [
        {
          "output_type": "execute_result",
          "data": {
            "text/plain": [
              "LGBMRegressor(boosting_type='gbdt', class_weight=None, colsample_bytree=1.0,\n",
              "              importance_type='split', learning_rate=0.1, max_depth=-1,\n",
              "              min_child_samples=20, min_child_weight=0.001, min_split_gain=0.0,\n",
              "              n_estimators=100, n_jobs=-1, num_leaves=31, objective=None,\n",
              "              random_state=42, reg_alpha=0.0, reg_lambda=0.0, silent=True,\n",
              "              subsample=1.0, subsample_for_bin=200000, subsample_freq=0)"
            ]
          },
          "metadata": {
            "tags": []
          },
          "execution_count": 62
        }
      ]
    },
    {
      "cell_type": "code",
      "metadata": {
        "id": "ZY58ekmyAnrY"
      },
      "source": [
        "pred = model.predict(x_test)"
      ],
      "execution_count": 63,
      "outputs": []
    },
    {
      "cell_type": "code",
      "metadata": {
        "id": "mVEGZQMXAvwg"
      },
      "source": [
        "submission  = pd.read_csv(PATH+'sample_submission.csv')"
      ],
      "execution_count": 64,
      "outputs": []
    },
    {
      "cell_type": "code",
      "metadata": {
        "id": "-JNsh1jHAtzL"
      },
      "source": [
        "submission['num'] = pred"
      ],
      "execution_count": 65,
      "outputs": []
    },
    {
      "cell_type": "code",
      "metadata": {
        "id": "zEgZNK7XAt1m"
      },
      "source": [
        "submission.to_csv(PATH+'baseline.csv', index=False)"
      ],
      "execution_count": 66,
      "outputs": []
    }
  ]
}